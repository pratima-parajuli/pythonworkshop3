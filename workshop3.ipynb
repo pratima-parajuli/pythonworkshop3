{
 "cells": [
  {
   "cell_type": "code",
   "execution_count": 2,
   "id": "b396433a-beae-43a0-b397-026a6f8bf12d",
   "metadata": {},
   "outputs": [
    {
     "name": "stdout",
     "output_type": "stream",
     "text": [
      "it's not in the list\n",
      "Dont be bad\n",
      "Dont be bad\n",
      "Dont be bad\n"
     ]
    }
   ],
   "source": [
    "# condition \n",
    "list1 = ['number', 'Letter','period','cake']\n",
    "\n",
    "for val in list1:\n",
    "    if val == 'cakes':\n",
    "        print('yummy')\n",
    "    elif val == 'number':\n",
    "        print ('it\\'s not in the list')\n",
    "    else : \n",
    "        print('Dont be bad')\n",
    "        "
   ]
  },
  {
   "cell_type": "code",
   "execution_count": 8,
   "id": "3e7aabfe-252a-40af-8e16-c655fc5f5318",
   "metadata": {},
   "outputs": [],
   "source": [
    "#  condition \n",
    "\n",
    "# list = ['number', 'Letter', 'period', 'cake']\n",
    "\n",
    "# if 'letter' in list:\n",
    "#     print('this is number')\n",
    "#     else:\n",
    "#     print ('we have something different')"
   ]
  },
  {
   "cell_type": "code",
   "execution_count": 38,
   "id": "bf8fb9ae-2f65-4201-a413-fd9457aaeb15",
   "metadata": {},
   "outputs": [
    {
     "name": "stdin",
     "output_type": "stream",
     "text": [
      "first number 1\n",
      "second number 2\n",
      "Choose your operation: +, -,*,/ +\n"
     ]
    },
    {
     "data": {
      "text/plain": [
       "3"
      ]
     },
     "execution_count": 38,
     "metadata": {},
     "output_type": "execute_result"
    }
   ],
   "source": [
    "num1= int( input('first number'))\n",
    "num2= int( input('second number'))\n",
    "operator = input('Choose your operation: +, -,*,/')\n",
    "                 \n",
    "# validValues = []\n",
    "# if (operator in validValudes)\n",
    "\n",
    "def calculator(num1, num2, operator):\n",
    "    if operator == '+':\n",
    "        add = num1+num2\n",
    "        return(add)\n",
    "    elif operator == '-':\n",
    "        substract = num1-num2\n",
    "        return(substract)\n",
    "    elif operator == '*':\n",
    "        multiply= num1*num2\n",
    "        return (multiply)\n",
    "    elif operator == '/':\n",
    "        divide == num1/num2\n",
    "        return(divide)\n",
    "    else:\n",
    "         print('the operation is not valid')\n",
    "    \n",
    "calculator(num1,num2,operator)\n",
    "    \n",
    "    \n",
    "    "
   ]
  },
  {
   "cell_type": "code",
   "execution_count": 45,
   "id": "60546e94-f943-4422-9e82-f06bf8165163",
   "metadata": {},
   "outputs": [
    {
     "name": "stdin",
     "output_type": "stream",
     "text": [
      "first number 1\n",
      "second number 2\n"
     ]
    },
    {
     "ename": "ValueError",
     "evalue": "invalid literal for int() with base 10: ''",
     "output_type": "error",
     "traceback": [
      "\u001b[1;31m---------------------------------------------------------------------------\u001b[0m",
      "\u001b[1;31mValueError\u001b[0m                                Traceback (most recent call last)",
      "\u001b[1;32m~\\AppData\\Local\\Temp/ipykernel_14276/657414152.py\u001b[0m in \u001b[0;36m<module>\u001b[1;34m\u001b[0m\n\u001b[0;32m      1\u001b[0m \u001b[0mnum1\u001b[0m\u001b[1;33m=\u001b[0m \u001b[0mint\u001b[0m\u001b[1;33m(\u001b[0m \u001b[0minput\u001b[0m\u001b[1;33m(\u001b[0m\u001b[1;34m'first number'\u001b[0m\u001b[1;33m)\u001b[0m\u001b[1;33m)\u001b[0m\u001b[1;33m\u001b[0m\u001b[1;33m\u001b[0m\u001b[0m\n\u001b[0;32m      2\u001b[0m \u001b[0mnum2\u001b[0m\u001b[1;33m=\u001b[0m \u001b[0mint\u001b[0m\u001b[1;33m(\u001b[0m \u001b[0minput\u001b[0m\u001b[1;33m(\u001b[0m\u001b[1;34m'second number'\u001b[0m\u001b[1;33m)\u001b[0m\u001b[1;33m)\u001b[0m\u001b[1;33m\u001b[0m\u001b[1;33m\u001b[0m\u001b[0m\n\u001b[1;32m----> 3\u001b[1;33m \u001b[0moperator\u001b[0m \u001b[1;33m=\u001b[0m \u001b[0mint\u001b[0m\u001b[1;33m(\u001b[0m\u001b[1;34m''\u001b[0m\u001b[1;33m)\u001b[0m\u001b[1;33m\u001b[0m\u001b[1;33m\u001b[0m\u001b[0m\n\u001b[0m\u001b[0;32m      4\u001b[0m \u001b[1;33m\u001b[0m\u001b[0m\n\u001b[0;32m      5\u001b[0m \u001b[1;32mdef\u001b[0m \u001b[0mcalcualtor\u001b[0m\u001b[1;33m(\u001b[0m\u001b[0mnum1\u001b[0m\u001b[1;33m,\u001b[0m\u001b[0mnum2\u001b[0m\u001b[1;33m,\u001b[0m \u001b[0moperator\u001b[0m\u001b[1;33m)\u001b[0m\u001b[1;33m:\u001b[0m\u001b[1;33m\u001b[0m\u001b[1;33m\u001b[0m\u001b[0m\n",
      "\u001b[1;31mValueError\u001b[0m: invalid literal for int() with base 10: ''"
     ]
    }
   ],
   "source": [
    "\n",
    "num1= int( input('first number'))\n",
    "num2= int( input('second number'))\n",
    "operator = ''\n",
    "\n",
    "def calcualtor(num1,num2, operator):\n",
    "    if operator == '+':\n",
    "        add = num1+num2\n",
    "        return (add)\n",
    "    elif operator == '-':\n",
    "        sub = num1-num2\n",
    "        return(sub)\n",
    "    elif operator == '*':\n",
    "        multiply == num1*num2\n",
    "        return(multiply)\n",
    "    elif operator == '/':\n",
    "        divide = num1/num2\n",
    "        return (divide)\n",
    "    else:\n",
    "        return ('operation is not valid')\n",
    "    \n",
    "calculator(num1, num2,operator)\n",
    "    \n",
    "    \n",
    "    \n",
    "        \n",
    "    "
   ]
  },
  {
   "cell_type": "code",
   "execution_count": null,
   "id": "2e4f2ae8-9893-4bca-81e5-0a81f08ffa34",
   "metadata": {},
   "outputs": [],
   "source": []
  }
 ],
 "metadata": {
  "kernelspec": {
   "display_name": "Python 3 (ipykernel)",
   "language": "python",
   "name": "python3"
  },
  "language_info": {
   "codemirror_mode": {
    "name": "ipython",
    "version": 3
   },
   "file_extension": ".py",
   "mimetype": "text/x-python",
   "name": "python",
   "nbconvert_exporter": "python",
   "pygments_lexer": "ipython3",
   "version": "3.9.7"
  }
 },
 "nbformat": 4,
 "nbformat_minor": 5
}
